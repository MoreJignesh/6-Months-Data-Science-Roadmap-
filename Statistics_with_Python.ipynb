{
  "nbformat": 4,
  "nbformat_minor": 0,
  "metadata": {
    "colab": {
      "provenance": [],
      "authorship_tag": "ABX9TyPcS79tbmhMAU4p2YBvzXzQ",
      "include_colab_link": true
    },
    "kernelspec": {
      "name": "python3",
      "display_name": "Python 3"
    },
    "language_info": {
      "name": "python"
    }
  },
  "cells": [
    {
      "cell_type": "markdown",
      "metadata": {
        "id": "view-in-github",
        "colab_type": "text"
      },
      "source": [
        "<a href=\"https://colab.research.google.com/github/MoreJignesh/6-Months-Data-Science-Roadmap-/blob/main/Statistics_with_Python.ipynb\" target=\"_parent\"><img src=\"https://colab.research.google.com/assets/colab-badge.svg\" alt=\"Open In Colab\"/></a>"
      ]
    },
    {
      "cell_type": "markdown",
      "source": [
        "#Statistics Practical Implementation\n",
        "\n",
        "##Measure of Central Tendancy\n",
        "\n",
        "1. Mean\n",
        "2. Median\n",
        "3. Mode\n"
      ],
      "metadata": {
        "id": "nV3n4y6Bw3Bm"
      }
    },
    {
      "cell_type": "code",
      "execution_count": 1,
      "metadata": {
        "id": "sJASs6A_vpta"
      },
      "outputs": [],
      "source": [
        "import numpy as np\n",
        "import statistics\n",
        "import seaborn as sns"
      ]
    },
    {
      "cell_type": "code",
      "source": [
        "ages = [23,24,32,26,72,55,67,48,61,16,18,26,56,91,12,65,48,37,220]"
      ],
      "metadata": {
        "id": "b6QDoNIPwqab"
      },
      "execution_count": 2,
      "outputs": []
    },
    {
      "cell_type": "code",
      "source": [
        "print(np.mean(ages))\n",
        "print(np.median(ages))"
      ],
      "metadata": {
        "colab": {
          "base_uri": "https://localhost:8080/"
        },
        "id": "K8-clSDGwlOF",
        "outputId": "e5f4bab3-098f-40da-a1f7-0499df8e85f0"
      },
      "execution_count": 3,
      "outputs": [
        {
          "output_type": "stream",
          "name": "stdout",
          "text": [
            "52.473684210526315\n",
            "48.0\n"
          ]
        }
      ]
    },
    {
      "cell_type": "markdown",
      "source": [
        "###Findings\n",
        "\n",
        "From the above we can notice that there was an outlier within the data but we can notice it in the difference of Mean and median (feature engineering).\n",
        "It's clear that the mean is significantly impacted by the outlier, whereas the median remains relatively stable."
      ],
      "metadata": {
        "id": "zYtR4PhCw0EV"
      }
    },
    {
      "cell_type": "code",
      "source": [
        "ages2 = [23,24,32,26,72,55,67,48,61,16,18,26,56,91,12,65,48,37]"
      ],
      "metadata": {
        "id": "kHIzAtT8y-dq"
      },
      "execution_count": 4,
      "outputs": []
    },
    {
      "cell_type": "code",
      "source": [
        "print(np.mean(ages2))\n",
        "print(np.median(ages2))"
      ],
      "metadata": {
        "colab": {
          "base_uri": "https://localhost:8080/"
        },
        "id": "2jwDi2qgzB5u",
        "outputId": "78ab7f9a-a7f5-488c-dda3-23b7c8eec5be"
      },
      "execution_count": 5,
      "outputs": [
        {
          "output_type": "stream",
          "name": "stdout",
          "text": [
            "43.166666666666664\n",
            "42.5\n"
          ]
        }
      ]
    },
    {
      "cell_type": "code",
      "source": [
        "print(statistics.mean(ages))\n",
        "print(statistics.median(ages))"
      ],
      "metadata": {
        "colab": {
          "base_uri": "https://localhost:8080/"
        },
        "id": "OajW1IjFzz_L",
        "outputId": "e4282a9a-8913-4e23-c2f1-73d312e91ff8"
      },
      "execution_count": 6,
      "outputs": [
        {
          "output_type": "stream",
          "name": "stdout",
          "text": [
            "52.473684210526315\n",
            "48\n"
          ]
        }
      ]
    },
    {
      "cell_type": "code",
      "source": [
        "print(statistics.mode(ages))"
      ],
      "metadata": {
        "colab": {
          "base_uri": "https://localhost:8080/"
        },
        "id": "MHnYei1G0I5J",
        "outputId": "6bf1ea6e-475e-4126-a29c-bda91cf08fcd"
      },
      "execution_count": 7,
      "outputs": [
        {
          "output_type": "stream",
          "name": "stdout",
          "text": [
            "26\n"
          ]
        }
      ]
    },
    {
      "cell_type": "markdown",
      "source": [
        "##Let's check how to identify outliers\n"
      ],
      "metadata": {
        "id": "x8ofL1wo0cVn"
      }
    },
    {
      "cell_type": "code",
      "source": [
        "sns.boxplot(ages)"
      ],
      "metadata": {
        "colab": {
          "base_uri": "https://localhost:8080/",
          "height": 430
        },
        "id": "eRwoZ9Bu0ZF5",
        "outputId": "f5e11218-7a13-4169-9562-1246c9182f31"
      },
      "execution_count": 8,
      "outputs": [
        {
          "output_type": "execute_result",
          "data": {
            "text/plain": [
              "<Axes: >"
            ]
          },
          "metadata": {},
          "execution_count": 8
        },
        {
          "output_type": "display_data",
          "data": {
            "text/plain": [
              "<Figure size 640x480 with 1 Axes>"
            ],
            "image/png": "[encoded data removed]"
          },
          "metadata": {}
        }
      ]
    },
    {
      "cell_type": "markdown",
      "source": [
        "##Five Number Summary"
      ],
      "metadata": {
        "id": "kcVsctpf1HeG"
      }
    },
    {
      "cell_type": "code",
      "source": [
        "q1, q3 = np.percentile(ages,[25,75])\n",
        "\n",
        "print(q1,q3)"
      ],
      "metadata": {
        "colab": {
          "base_uri": "https://localhost:8080/"
        },
        "id": "w-N22MgZ00Mw",
        "outputId": "5d4708dd-4f33-4ee3-9bd5-84c90301da24"
      },
      "execution_count": 9,
      "outputs": [
        {
          "output_type": "stream",
          "name": "stdout",
          "text": [
            "25.0 63.0\n"
          ]
        }
      ]
    },
    {
      "cell_type": "code",
      "source": [
        "## to check outlier [Lower fence and Higher fence]\n",
        "\n",
        "IQR = q3 - q1\n",
        "lower_fence = q1 - 1.5*(IQR)\n",
        "higher_fence = q3 + 1.5*(IQR)\n",
        "\n",
        "print(lower_fence,higher_fence)"
      ],
      "metadata": {
        "colab": {
          "base_uri": "https://localhost:8080/"
        },
        "id": "-U_bVxfa1mQE",
        "outputId": "e8a2a5ca-0a87-40a3-e4fc-a16628dc5797"
      },
      "execution_count": 10,
      "outputs": [
        {
          "output_type": "stream",
          "name": "stdout",
          "text": [
            "-32.0 120.0\n"
          ]
        }
      ]
    },
    {
      "cell_type": "markdown",
      "source": [
        "### Findings\n",
        " Based on this we got the lower_fence and higher_fence, any number outside of this range is considered as outlier"
      ],
      "metadata": {
        "id": "pUJj2ZtgGwLz"
      }
    },
    {
      "cell_type": "markdown",
      "source": [
        "#Measure of Dispersion\n",
        "\n",
        "1. Variance\n",
        "2. Standard Deviation"
      ],
      "metadata": {
        "id": "Ztyw29htHVZn"
      }
    },
    {
      "cell_type": "code",
      "source": [
        "#Calculating Variance (sample (n-1))\n",
        "\n",
        "statistics.variance(ages)"
      ],
      "metadata": {
        "colab": {
          "base_uri": "https://localhost:8080/"
        },
        "id": "2cYDJXOe1HG0",
        "outputId": "d359991a-c3d5-44c1-98e6-2f36ab15fd03"
      },
      "execution_count": 11,
      "outputs": [
        {
          "output_type": "execute_result",
          "data": {
            "text/plain": [
              "2129.2631578947367"
            ]
          },
          "metadata": {},
          "execution_count": 11
        }
      ]
    },
    {
      "cell_type": "code",
      "source": [
        "# Calculating Population Variance\n",
        "np.var(ages,axis = 0)"
      ],
      "metadata": {
        "colab": {
          "base_uri": "https://localhost:8080/"
        },
        "id": "IhnzR-A2H01C",
        "outputId": "740b929e-9939-491a-996d-6f733f32e3e2"
      },
      "execution_count": 12,
      "outputs": [
        {
          "output_type": "execute_result",
          "data": {
            "text/plain": [
              "2017.1966759002771"
            ]
          },
          "metadata": {},
          "execution_count": 12
        }
      ]
    },
    {
      "cell_type": "code",
      "source": [
        "#cross confirming variance (population = 0 , sample = 1)\n",
        "\n",
        "def variance(data,dof = 1):\n",
        "  n = len(ages)\n",
        "\n",
        "  #mean of the data\n",
        "\n",
        "  mean = sum (data)/n\n",
        "\n",
        "  #variance\n",
        "  deviation = [(x - mean) ** 2 for x in data]\n",
        "  variance = sum(deviation)/(n - dof)\n",
        "\n",
        "  return variance\n",
        "\n"
      ],
      "metadata": {
        "id": "2GdSPBXvIYPG"
      },
      "execution_count": 13,
      "outputs": []
    },
    {
      "cell_type": "code",
      "source": [
        "variance(ages,dof = 0)"
      ],
      "metadata": {
        "colab": {
          "base_uri": "https://localhost:8080/"
        },
        "id": "HTsCKTjrJ39s",
        "outputId": "4857daf6-144d-41ef-c263-ae76172794ef"
      },
      "execution_count": 14,
      "outputs": [
        {
          "output_type": "execute_result",
          "data": {
            "text/plain": [
              "2017.1966759002771"
            ]
          },
          "metadata": {},
          "execution_count": 14
        }
      ]
    },
    {
      "cell_type": "code",
      "source": [
        "variance(ages,dof = 1)"
      ],
      "metadata": {
        "colab": {
          "base_uri": "https://localhost:8080/"
        },
        "id": "d0WXGvllL6kp",
        "outputId": "49abf88b-c24b-487b-b1a8-38536c360f97"
      },
      "execution_count": 15,
      "outputs": [
        {
          "output_type": "execute_result",
          "data": {
            "text/plain": [
              "2129.263157894737"
            ]
          },
          "metadata": {},
          "execution_count": 15
        }
      ]
    },
    {
      "cell_type": "code",
      "source": [
        "statistics.pvariance(ages)"
      ],
      "metadata": {
        "colab": {
          "base_uri": "https://localhost:8080/"
        },
        "id": "5Vg0fl2YMNn3",
        "outputId": "005515e7-a41b-443c-810b-9cdc666ed48b"
      },
      "execution_count": 16,
      "outputs": [
        {
          "output_type": "execute_result",
          "data": {
            "text/plain": [
              "2017.1966759002771"
            ]
          },
          "metadata": {},
          "execution_count": 16
        }
      ]
    },
    {
      "cell_type": "code",
      "source": [
        "import math\n",
        "std = math.sqrt(statistics.pvariance(ages))\n",
        "\n",
        "print(std)"
      ],
      "metadata": {
        "colab": {
          "base_uri": "https://localhost:8080/"
        },
        "id": "7sUYcxMAMS5A",
        "outputId": "1e2dc384-d8d8-4169-b951-8eacc52a91ec"
      },
      "execution_count": 17,
      "outputs": [
        {
          "output_type": "stream",
          "name": "stdout",
          "text": [
            "44.91321270962786\n"
          ]
        }
      ]
    },
    {
      "cell_type": "markdown",
      "source": [
        "#Histogram and PDF (frequency)"
      ],
      "metadata": {
        "id": "cnhTWU_OMoQ6"
      }
    },
    {
      "cell_type": "code",
      "source": [
        "#kde = kernel density estimate\n",
        "\n",
        "sns.histplot(ages,kde = True)"
      ],
      "metadata": {
        "colab": {
          "base_uri": "https://localhost:8080/",
          "height": 449
        },
        "id": "QXamUTbeMu3y",
        "outputId": "e769753b-a188-496d-b03a-c5669bf4adec"
      },
      "execution_count": 18,
      "outputs": [
        {
          "output_type": "execute_result",
          "data": {
            "text/plain": [
              "<Axes: ylabel='Count'>"
            ]
          },
          "metadata": {},
          "execution_count": 18
        },
        {
          "output_type": "display_data",
          "data": {
            "text/plain": [
              "<Figure size 640x480 with 1 Axes>"
            ],
            "image/png": "[encoded data removed]"
          },
          "metadata": {}
        }
      ]
    },
    {
      "cell_type": "markdown",
      "source": [
        "CHeck how to identify the outliers in our dataset"
      ],
      "metadata": {
        "id": "j_eKGXx4qMO-"
      }
    },
    {
      "cell_type": "code",
      "source": [
        "import matplotlib.pyplot as plt\n",
        "%matplotlib inline"
      ],
      "metadata": {
        "id": "YNdw45q-MhPt"
      },
      "execution_count": 19,
      "outputs": []
    },
    {
      "cell_type": "code",
      "source": [
        "##Defining our dataset\n",
        "\n",
        "dataset = [11,10,12,14,12,15,14,13,15,102,12,14,17,19,107,10,13,12,14,12,108,12,11,14,13,15,12,10,14,13,15,10]"
      ],
      "metadata": {
        "id": "hUwO1jU9Y3an"
      },
      "execution_count": 20,
      "outputs": []
    },
    {
      "cell_type": "code",
      "source": [
        "##this way you can notice the outliers, however not the most accurate way.\n",
        "plt.hist(dataset)"
      ],
      "metadata": {
        "colab": {
          "base_uri": "https://localhost:8080/",
          "height": 505
        },
        "id": "EAp29KmbZSoW",
        "outputId": "cbca3b4b-a04d-447a-c341-0b0878c1611b"
      },
      "execution_count": 21,
      "outputs": [
        {
          "output_type": "execute_result",
          "data": {
            "text/plain": [
              "(array([29.,  0.,  0.,  0.,  0.,  0.,  0.,  0.,  0.,  3.]),\n",
              " array([ 10. ,  19.8,  29.6,  39.4,  49.2,  59. ,  68.8,  78.6,  88.4,\n",
              "         98.2, 108. ]),\n",
              " <BarContainer object of 10 artists>)"
            ]
          },
          "metadata": {},
          "execution_count": 21
        },
        {
          "output_type": "display_data",
          "data": {
            "text/plain": [
              "<Figure size 640x480 with 1 Axes>"
            ],
            "image/png": "[encoded data removed]"
          },
          "metadata": {}
        }
      ]
    },
    {
      "cell_type": "code",
      "source": [
        "#dectecting outliers using Z_score\n",
        "def detect_outliers(data):\n",
        "  outliers = []\n",
        "  threshold = 3 #3rd standard deviation\n",
        "  mean = np.mean(data)\n",
        "  std = np.std(data)\n",
        "\n",
        "  for i in data:\n",
        "    z_score = (i-mean)/std\n",
        "    if np.abs(z_score)>threshold:\n",
        "      outliers.append(i)\n",
        "  return outliers\n"
      ],
      "metadata": {
        "id": "TnL0c5gxZin0"
      },
      "execution_count": 22,
      "outputs": []
    },
    {
      "cell_type": "code",
      "source": [
        "detect_outliers(dataset)"
      ],
      "metadata": {
        "colab": {
          "base_uri": "https://localhost:8080/"
        },
        "id": "YA7Z1DSfcjkw",
        "outputId": "9f094c33-6f25-419a-8a76-d86c9df1c913"
      },
      "execution_count": 23,
      "outputs": [
        {
          "output_type": "execute_result",
          "data": {
            "text/plain": [
              "[107, 108]"
            ]
          },
          "metadata": {},
          "execution_count": 23
        }
      ]
    },
    {
      "cell_type": "markdown",
      "source": [
        "IOQ Technique (most accurate way)\n",
        "  1. Sort the data\n",
        "  2. Calculate Q1 (25%) and Q3(75%)\n",
        "  3. IQR (Q3-Q1)\n",
        "  4. Find the lower fence (Q1-1.5(IQR))\n",
        "  5. Find the lower fence (Q3+1.5(IQR))\n"
      ],
      "metadata": {
        "id": "hOHlFyAyfAuE"
      }
    },
    {
      "cell_type": "code",
      "source": [
        "#sorting data in assending order and calculating the necessary fields\n",
        "dataset = sorted(dataset)\n",
        "q1, q3 = np.percentile(dataset,[25,75])\n",
        "iqr = q3 - q1\n",
        "\n",
        "print(dataset,q1,q3,iqr)"
      ],
      "metadata": {
        "colab": {
          "base_uri": "https://localhost:8080/"
        },
        "id": "wKlDTzApfaFv",
        "outputId": "6fe0083d-1f51-475f-ce76-4d49194180c4"
      },
      "execution_count": 24,
      "outputs": [
        {
          "output_type": "stream",
          "name": "stdout",
          "text": [
            "[10, 10, 10, 10, 11, 11, 12, 12, 12, 12, 12, 12, 12, 13, 13, 13, 13, 14, 14, 14, 14, 14, 14, 15, 15, 15, 15, 17, 19, 102, 107, 108] 12.0 15.0 3.0\n"
          ]
        }
      ]
    },
    {
      "cell_type": "code",
      "source": [
        "#calculating lower and upper fence\n",
        "lower_fence = q1-1.5*iqr\n",
        "upper_fence = q3+1.5*iqr\n",
        "\n",
        "print(lower_fence, upper_fence)"
      ],
      "metadata": {
        "colab": {
          "base_uri": "https://localhost:8080/"
        },
        "id": "AdsN9MiVgONF",
        "outputId": "66d2fc07-c235-46fa-d530-9100977ec878"
      },
      "execution_count": 25,
      "outputs": [
        {
          "output_type": "stream",
          "name": "stdout",
          "text": [
            "7.5 19.5\n"
          ]
        }
      ]
    },
    {
      "cell_type": "code",
      "source": [
        "sns.boxplot(dataset)"
      ],
      "metadata": {
        "colab": {
          "base_uri": "https://localhost:8080/",
          "height": 430
        },
        "id": "QkBmIH9qoFfS",
        "outputId": "8838ec91-4ae0-42c6-c64f-b6bf6b6f15be"
      },
      "execution_count": 26,
      "outputs": [
        {
          "output_type": "execute_result",
          "data": {
            "text/plain": [
              "<Axes: >"
            ]
          },
          "metadata": {},
          "execution_count": 26
        },
        {
          "output_type": "display_data",
          "data": {
            "text/plain": [
              "<Figure size 640x480 with 1 Axes>"
            ],
            "image/png": "[encoded data removed]"
          },
          "metadata": {}
        }
      ]
    },
    {
      "cell_type": "markdown",
      "source": [
        "As you can notice the IQR way was most accrate way of identifying the outliers, were it has provided us 3 outliers and previous one was not the accurate because it has just provided 2 of them instead of 3."
      ],
      "metadata": {
        "id": "mkZAZ3MOq4C6"
      }
    },
    {
      "cell_type": "code",
      "source": [],
      "metadata": {
        "id": "aD3K7CgRoDng"
      },
      "execution_count": 26,
      "outputs": []
    },
    {
      "cell_type": "markdown",
      "source": [],
      "metadata": {
        "id": "jt9jmnu-Hlyt"
      }
    }
  ]
}